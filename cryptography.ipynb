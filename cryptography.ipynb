{
 "cells": [
  {
   "cell_type": "markdown",
   "id": "b752973b-1f93-446e-8023-551f08250c23",
   "metadata": {},
   "source": [
    "### Current Reading: _An Intensive Introduction to Cryptography_"
   ]
  },
  {
   "cell_type": "markdown",
   "id": "dbd373b2-9c38-408d-a3f7-97744b5f158a",
   "metadata": {},
   "source": [
    "This notebook contains journal entires from reading _An Intensive Introduction to Cryptography_ by Boaz Barak. The book can be found at https://intensecrypto.org/public/ for free."
   ]
  },
  {
   "cell_type": "markdown",
   "id": "69dc9989-7171-4671-9968-f2f6abf7a409",
   "metadata": {},
   "source": [
    "#### Chapter 0: Mathematical Background"
   ]
  },
  {
   "cell_type": "code",
   "execution_count": null,
   "id": "02f8fa5b-b94e-40b6-8328-8bb6940b46d3",
   "metadata": {},
   "outputs": [],
   "source": []
  }
 ],
 "metadata": {
  "kernelspec": {
   "display_name": "Python 3 (ipykernel)",
   "language": "python",
   "name": "python3"
  },
  "language_info": {
   "codemirror_mode": {
    "name": "ipython",
    "version": 3
   },
   "file_extension": ".py",
   "mimetype": "text/x-python",
   "name": "python",
   "nbconvert_exporter": "python",
   "pygments_lexer": "ipython3",
   "version": "3.13.1"
  }
 },
 "nbformat": 4,
 "nbformat_minor": 5
}
