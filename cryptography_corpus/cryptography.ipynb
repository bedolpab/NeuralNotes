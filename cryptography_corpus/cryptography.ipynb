{
 "cells": [
  {
   "cell_type": "markdown",
   "id": "b752973b-1f93-446e-8023-551f08250c23",
   "metadata": {},
   "source": [
    "### Current Reading: _An Intensive Introduction to Cryptography_"
   ]
  },
  {
   "cell_type": "markdown",
   "id": "dbd373b2-9c38-408d-a3f7-97744b5f158a",
   "metadata": {},
   "source": [
    "This notebook contains journal entires from reading _An Intensive Introduction to Cryptography_ by Boaz Barak. The book can be found at https://intensecrypto.org/public/ for free. Written notes can be found in a separate folder. These are merely code entires."
   ]
  },
  {
   "cell_type": "markdown",
   "id": "69dc9989-7171-4671-9968-f2f6abf7a409",
   "metadata": {},
   "source": [
    "#### Chapter 1: Introduction"
   ]
  },
  {
   "cell_type": "markdown",
   "id": "30407352-acfa-4537-b216-60c3177afed4",
   "metadata": {},
   "source": [
    "$S =\\{0, 1\\}^n$ s.t. $S$ is the set of all $n$-lenght binary strings ($n$-tuples) for some $n\\in \\mathbb{N}$. For example $S=\\{0,1\\}^3 = \\{000, 001, 010, 011, 100, 101, 110, 111\\}$"
   ]
  },
  {
   "cell_type": "code",
   "execution_count": 130,
   "id": "1e5c0a02-6a2d-4b90-8c0c-611d67096d64",
   "metadata": {},
   "outputs": [
    {
     "name": "stdout",
     "output_type": "stream",
     "text": [
      "The autoreload extension is already loaded. To reload it, use:\n",
      "  %reload_ext autoreload\n"
     ]
    }
   ],
   "source": [
    "%load_ext autoreload\n",
    "%autoreload 2\n",
    "%reload_ext autoreload"
   ]
  },
  {
   "cell_type": "code",
   "execution_count": 131,
   "id": "d18ad3b4-afc1-4234-aa39-46e5ef73613d",
   "metadata": {},
   "outputs": [
    {
     "data": {
      "text/plain": [
       "['0', '0', '1', '1']"
      ]
     },
     "execution_count": 131,
     "metadata": {},
     "output_type": "execute_result"
    }
   ],
   "source": [
    "from cryptography import crypto\n",
    "\n",
    "crypto.generate_n_length_binary(2)"
   ]
  },
  {
   "cell_type": "code",
   "execution_count": 141,
   "id": "ab6e65ff-88ed-45f8-836c-655b1c3afd14",
   "metadata": {},
   "outputs": [
    {
     "name": "stdout",
     "output_type": "stream",
     "text": [
      "0\n",
      "1\n",
      "2\n",
      "3\n"
     ]
    }
   ],
   "source": [
    "for i in range((2 ** 3) // 2):\n",
    "    print(i)"
   ]
  },
  {
   "cell_type": "code",
   "execution_count": null,
   "id": "7df67a65-be4e-4940-8585-cf31033813bf",
   "metadata": {},
   "outputs": [],
   "source": []
  }
 ],
 "metadata": {
  "kernelspec": {
   "display_name": "Python 3 (ipykernel)",
   "language": "python",
   "name": "python3"
  },
  "language_info": {
   "codemirror_mode": {
    "name": "ipython",
    "version": 3
   },
   "file_extension": ".py",
   "mimetype": "text/x-python",
   "name": "python",
   "nbconvert_exporter": "python",
   "pygments_lexer": "ipython3",
   "version": "3.13.1"
  }
 },
 "nbformat": 4,
 "nbformat_minor": 5
}
